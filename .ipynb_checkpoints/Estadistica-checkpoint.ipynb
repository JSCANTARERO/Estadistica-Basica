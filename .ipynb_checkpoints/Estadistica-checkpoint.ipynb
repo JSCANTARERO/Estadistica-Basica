{
 "cells": [
  {
   "cell_type": "markdown",
   "metadata": {},
   "source": [
    "## Estadistica Basica"
   ]
  },
  {
   "cell_type": "markdown",
   "metadata": {},
   "source": [
    "Medidas basicas de la estadistica descriptiva\n",
    "* Medidas de centralizacion"
   ]
  },
  {
   "cell_type": "markdown",
   "metadata": {},
   "source": [
    "1. Media Artimetica: \n",
    "También llamada promedio o media, es un valor que nos indica la catitad total que tenemos pero distribuida de manera equitativa entre cada uno de los datos u objetos.\n",
    "Se utiliza la letra x con una barra horizontal sobre el símbolo para representar la media de una muestra. Cuando tenemos que resumir un conjunto de datos numéricos es muy frecuente utilizar la media aritmética. La media aritmética o promedio destaca por representar el reparto equitativo, el equilibrio, la equidad. Es el valor que tendrían los datos, si todos ellos fueran iguales. O, también, el valor que correspondería a cada uno de los datos de la distribución si su suma total se repartiera por igual."
   ]
  },
  {
   "cell_type": "markdown",
   "metadata": {},
   "source": [
    "2. Mediana:\n",
    "La mediana dentro del mundo de las estadísticas y probabilidades se refiere a un grupo o conjunto de datos que se encuentran en el medio, teniendo una parte de los datos por debajo y la otra por encima, por esta razón se denomina mediana. En estadística es muy utilizado el promedio y para ello es necesario conocer conceptos como la media, la mediana y la moda. \n",
    "Ejemplo: En el caso de que veamos el siguiente conjunto de números 2 – 3 – 3 – 5 – 8 – 10 – 11. La mediana sera el numero 5."
   ]
  },
  {
   "cell_type": "markdown",
   "metadata": {},
   "source": [
    "3. Moda: \n",
    "La moda es el valor con mayor frecuencia en una de las distribuciones de datos. Esto va en forma de una columna cuando encontremos dos modas, es decir, dos datos que tengan la misma frecuencia absoluta máxima. Una distribución trimodal de los datos es en la que encontramos tres modas. En el caso de la distribución uniforme discreta, cuando todos los datos tienen la misma frecuencia, se puede definir las modas como indicado, pero estos valores no tienen utilidad. Por eso algunos matemáticos califican esta distribución como «sin moda». \n",
    "\n",
    "\n",
    "\n",
    "4. Percentiles:\n",
    "El percentil es una medida de posición usada en estadística que indica, una vez ordenados los datos de menor a mayor, el valor de la variable por debajo del cual se encuentra un porcentaje dado de observaciones en un grupo. Por ejemplo, el percentil 20.º es el valor bajo el cual se encuentran el 20 por ciento de las observaciones. \n",
    "Un método para establecer un percentil sería el siguiente: Calculamos\n",
    "x = n ⋅ i / 100 , donde n es el número de elementos de la muestra e i, el percentil."
   ]
  },
  {
   "cell_type": "markdown",
   "metadata": {},
   "source": [
    "# Formulas"
   ]
  },
  {
   "cell_type": "markdown",
   "metadata": {},
   "source": [
    "1. Media artimetica"
   ]
  },
  {
   "cell_type": "code",
   "execution_count": 4,
   "metadata": {},
   "outputs": [],
   "source": [
    "#Para calcular la media artimetica en python utilizamos la siguiente funcion\n",
    "def media(valores):\n",
    "    return sum(valores)/len(valores)"
   ]
  },
  {
   "cell_type": "code",
   "execution_count": 5,
   "metadata": {},
   "outputs": [
    {
     "name": "stdout",
     "output_type": "stream",
     "text": [
      "El promedio de  (9, 123, 5, 4, 12, 45, 56, 76)  es:  41.25\n"
     ]
    }
   ],
   "source": [
    "valores = (9, 123, 5, 4, 12, 45, 56, 76)\n",
    "print('El promedio de ',valores,' es: ',media(valores))"
   ]
  },
  {
   "cell_type": "code",
   "execution_count": 1,
   "metadata": {},
   "outputs": [],
   "source": [
    "#Tambien podemos calcularlo por medio del modulo statics que agrupa un conjunto de funciones para calculo estadistico.\n",
    "#Las funciones están organizadas en dos grupos: las dedicadas a calcular valores medios y promedios y otras que miden \n",
    "#la dispersión de los datos alrededor de un valor central en una muestra o población de datos. \n",
    "import statistics as stats\n",
    "import pandas as pd\n",
    "import numpy as np"
   ]
  },
  {
   "cell_type": "code",
   "execution_count": 10,
   "metadata": {},
   "outputs": [
    {
     "name": "stdout",
     "output_type": "stream",
     "text": [
      "41.25\n"
     ]
    }
   ],
   "source": [
    "valores = (9, 123, 5, 4, 12, 45, 56, 76)\n",
    "print(stats.mean(valores))"
   ]
  },
  {
   "cell_type": "markdown",
   "metadata": {},
   "source": [
    "Dentro de esta libreria tambien tenemos las funciones para encontrar la media armonica, la mediana, la mediana baja, mediana alta, mediana agrupada, entre otras"
   ]
  },
  {
   "cell_type": "markdown",
   "metadata": {},
   "source": [
    "2. Mediana"
   ]
  },
  {
   "cell_type": "code",
   "execution_count": 15,
   "metadata": {},
   "outputs": [
    {
     "name": "stdout",
     "output_type": "stream",
     "text": [
      "30.0\n"
     ]
    }
   ],
   "source": [
    "#Podemos calcular la mediana mediante la utilizacion de statistics de la siguiente manera:\n",
    "#La función median() devuelve la mediana o valor medio de los datos. La mediana es el \n",
    "#valor central de un grupo de números ordenados por tamaño. Si la cantidad de elementos es \n",
    "#par, la mediana es el promedio de los dos números centrales.\n",
    "valores = [22, 23, 26, 26, 26, 34, 34, 38, 40, 41]\n",
    "print(stats.median(valores))"
   ]
  },
  {
   "cell_type": "markdown",
   "metadata": {},
   "source": [
    "3. Moda"
   ]
  },
  {
   "cell_type": "code",
   "execution_count": 16,
   "metadata": {},
   "outputs": [
    {
     "name": "stdout",
     "output_type": "stream",
     "text": [
      "26\n"
     ]
    }
   ],
   "source": [
    "#La moda puede ser calculada de la siguiente manera:\n",
    "valores = [22, 23, 26, 26, 26, 34, 34, 38, 40, 41]\n",
    "print(stats.mode(valores))"
   ]
  },
  {
   "cell_type": "markdown",
   "metadata": {},
   "source": [
    "4. Percentil"
   ]
  },
  {
   "cell_type": "code",
   "execution_count": 2,
   "metadata": {},
   "outputs": [
    {
     "name": "stdout",
     "output_type": "stream",
     "text": [
      "Min:  1\n",
      "Q1:  4.0\n",
      "Q2:  8.0\n",
      "Q3:  10.5\n",
      "Max:  15\n"
     ]
    }
   ],
   "source": [
    "arr = [1,1,3,5,7,8,9,10,11,11,15]\n",
    "print(\"Min: \",np.quantile(arr,0))\n",
    "print(\"Q1: \", np.quantile(arr,0.25))\n",
    "print(\"Q2: \", np.quantile(arr,0.5))\n",
    "print(\"Q3: \", np.quantile(arr,0.75))\n",
    "print(\"Max: \", np.quantile(arr,1))"
   ]
  },
  {
   "cell_type": "code",
   "execution_count": 9,
   "metadata": {},
   "outputs": [
    {
     "name": "stdout",
     "output_type": "stream",
     "text": [
      "0.00     1.0\n",
      "0.25     4.0\n",
      "0.50     8.0\n",
      "0.75    10.5\n",
      "1.00    15.0\n",
      "dtype: float64\n"
     ]
    }
   ],
   "source": [
    "#Para hacerlo con pandas lo hacemos de la siguiente manera\n",
    "serie = pd.Series([1,1,3,5,7,8,9,10,11,11,15])\n",
    "print(serie.quantile([0,0.25,0.5,0.75,1]))"
   ]
  },
  {
   "cell_type": "code",
   "execution_count": 10,
   "metadata": {},
   "outputs": [
    {
     "name": "stdout",
     "output_type": "stream",
     "text": [
      "Estadistica:  count    11.000000\n",
      "mean      7.363636\n",
      "std       4.478230\n",
      "min       1.000000\n",
      "25%       4.000000\n",
      "50%       8.000000\n",
      "75%      10.500000\n",
      "max      15.000000\n",
      "Name: A, dtype: float64\n"
     ]
    }
   ],
   "source": [
    "datos = { 'A':[1,1,3,5,7,8,9,10,11,11,15]}\n",
    "df = pd.DataFrame(datos)\n",
    "print(\"Estadistica: \",df['A'].describe())"
   ]
  },
  {
   "cell_type": "markdown",
   "metadata": {},
   "source": [
    "* Medidas de Dispersion\n",
    "\n",
    "\n",
    "1. Varianza:\n",
    "La varianza es una medida de dispersión que representa la variabilidad de una serie de datos respecto a su media. Formalmente se calcula como la suma de las residuos al cuadrado divididos entre el total de observaciones.\n",
    "También se puede calcular como la desviación típica al cuadrado. Dicho sea de paso, entendemos como residuo a la diferencia entre el valor de una variable en un momento y el valor medio de toda la variable.\n",
    "La unidad de medida de la varianza será siempre la unidad de medida correspondiente a los datos pero elevada al cuadrado. La varianza siempre es mayor o igual que cero. Al elevarse los residuos al cuadrado es matemáticamente imposible que la varianza salga negativa. Y de esa forma no puede ser menor que cero.\n",
    "\n",
    "2. Desviacion Tipica:\n",
    "En estadística, la desviación típica (también conocida como desviación estándar y representada de forma abreviada por la letra griega minúscula sigma σ o la letra latina s, así como por las siglas SD -de standard deviation- en algunos textos traducidos del inglés) es una medida que se usa para cuantificar la variación o dispersión de un conjunto de datos numéricos\n",
    "Una desviación estándar baja indica que la mayor parte de los datos de una muestra tienden a estar agrupados cerca de su media (también denominada el valor esperado), mientras que una desviación estándar alta indica que los datos se extienden sobre un rango de valores más amplio.\n",
    "\n",
    "3. Coeficiente de Variacion:\n",
    "En estadística, cuando se desea hacer referencia a la relación entre el tamaño de la media y la variabilidad de la variable, se utiliza el coeficiente de variación (suele representarse por las siglas \"C.V.\"). \n",
    "\n",
    "Su fórmula expresa la desviación estándar como porcentaje de la media aritmética, mostrando una interpretación relativa del grado de variabilidad, independiente de la escala de la variable, a diferencia de la desviación típica o estándar. Por otro lado presenta problemas ya que a diferencia de la desviación típica este coeficiente es fuertemente sensible ante cambios de origen en la variable. Por ello es importante que todos los valores sean positivos y su media dé, por tanto, un valor positivo. A mayor valor del coeficiente de variación mayor heterogeneidad de los valores de la variable; y a menor C.V., mayor homogeneidad en los valores de la variable. Por ejemplo, si el C.V es menor o igual al 80%, significa que la media aritmética es representativa del conjunto de datos, por ende el conjunto de datos es \"Homogéneo\". Por el contrario, si el C.V supera al 80%, el promedio no será representativo del conjunto de datos (por lo que resultará \"Heterogéneo\")"
   ]
  },
  {
   "cell_type": "code",
   "execution_count": null,
   "metadata": {},
   "outputs": [],
   "source": []
  }
 ],
 "metadata": {
  "kernelspec": {
   "display_name": "Python 3",
   "language": "python",
   "name": "python3"
  },
  "language_info": {
   "codemirror_mode": {
    "name": "ipython",
    "version": 3
   },
   "file_extension": ".py",
   "mimetype": "text/x-python",
   "name": "python",
   "nbconvert_exporter": "python",
   "pygments_lexer": "ipython3",
   "version": "3.8.1"
  }
 },
 "nbformat": 4,
 "nbformat_minor": 4
}
