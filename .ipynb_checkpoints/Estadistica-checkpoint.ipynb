{
 "cells": [
  {
   "cell_type": "markdown",
   "metadata": {},
   "source": [
    "## Estadistica Basica"
   ]
  },
  {
   "cell_type": "markdown",
   "metadata": {},
   "source": [
    "Medidas basicas de la estadistica descriptiva\n",
    "* Medidas de centralizacion"
   ]
  },
  {
   "cell_type": "markdown",
   "metadata": {},
   "source": [
    "1. Media Artimetica: \n",
    "También llamada promedio o media, es un valor que nos indica la catitad total que tenemos pero distribuida de manera equitativa entre cada uno de los datos u objetos.\n",
    "Se utiliza la letra x con una barra horizontal sobre el símbolo para representar la media de una muestra. Cuando tenemos que resumir un conjunto de datos numéricos es muy frecuente utilizar la media aritmética. La media aritmética o promedio destaca por representar el reparto equitativo, el equilibrio, la equidad. Es el valor que tendrían los datos, si todos ellos fueran iguales. O, también, el valor que correspondería a cada uno de los datos de la distribución si su suma total se repartiera por igual."
   ]
  },
  {
   "cell_type": "markdown",
   "metadata": {},
   "source": [
    "2. Mediana:\n",
    "La mediana dentro del mundo de las estadísticas y probabilidades se refiere a un grupo o conjunto de datos que se encuentran en el medio, teniendo una parte de los datos por debajo y la otra por encima, por esta razón se denomina mediana. En estadística es muy utilizado el promedio y para ello es necesario conocer conceptos como la media, la mediana y la moda. \n",
    "Ejemplo: En el caso de que veamos el siguiente conjunto de números 2 – 3 – 3 – 5 – 8 – 10 – 11. La mediana sera el numero 5."
   ]
  },
  {
   "cell_type": "markdown",
   "metadata": {},
   "source": [
    "3. Moda: \n",
    "La moda es el valor con mayor frecuencia en una de las distribuciones de datos. Esto va en forma de una columna cuando encontremos dos modas, es decir, dos datos que tengan la misma frecuencia absoluta máxima. Una distribución trimodal de los datos es en la que encontramos tres modas. En el caso de la distribución uniforme discreta, cuando todos los datos tienen la misma frecuencia, se puede definir las modas como indicado, pero estos valores no tienen utilidad. Por eso algunos matemáticos califican esta distribución como «sin moda». \n",
    "\n",
    "\n",
    "\n",
    "4. Percentiles:\n",
    "El percentil es una medida de posición usada en estadística que indica, una vez ordenados los datos de menor a mayor, el valor de la variable por debajo del cual se encuentra un porcentaje dado de observaciones en un grupo. Por ejemplo, el percentil 20.º es el valor bajo el cual se encuentran el 20 por ciento de las observaciones. \n",
    "Un método para establecer un percentil sería el siguiente: Calculamos\n",
    "x = n ⋅ i / 100 , donde n es el número de elementos de la muestra e i, el percentil."
   ]
  },
  {
   "cell_type": "markdown",
   "metadata": {},
   "source": [
    "# Formulas"
   ]
  },
  {
   "cell_type": "markdown",
   "metadata": {},
   "source": [
    "1. Media artimetica"
   ]
  },
  {
   "cell_type": "code",
   "execution_count": 4,
   "metadata": {},
   "outputs": [],
   "source": [
    "#Para calcular la media artimetica en python utilizamos la siguiente funcion\n",
    "def media(valores):\n",
    "    return sum(valores)/len(valores)"
   ]
  },
  {
   "cell_type": "code",
   "execution_count": 5,
   "metadata": {},
   "outputs": [
    {
     "name": "stdout",
     "output_type": "stream",
     "text": [
      "El promedio de  (9, 123, 5, 4, 12, 45, 56, 76)  es:  41.25\n"
     ]
    }
   ],
   "source": [
    "valores = (9, 123, 5, 4, 12, 45, 56, 76)\n",
    "print('El promedio de ',valores,' es: ',media(valores))"
   ]
  },
  {
   "cell_type": "code",
   "execution_count": 46,
   "metadata": {},
   "outputs": [],
   "source": [
    "#Tambien podemos calcularlo por medio del modulo statics que agrupa un conjunto de funciones para calculo estadistico.\n",
    "#Las funciones están organizadas en dos grupos: las dedicadas a calcular valores medios y promedios y otras que miden \n",
    "#la dispersión de los datos alrededor de un valor central en una muestra o población de datos. \n",
    "import statistics as stats\n",
    "import pandas as pd\n",
    "import numpy as np"
   ]
  },
  {
   "cell_type": "code",
   "execution_count": 10,
   "metadata": {},
   "outputs": [
    {
     "name": "stdout",
     "output_type": "stream",
     "text": [
      "41.25\n"
     ]
    }
   ],
   "source": [
    "valores = (9, 123, 5, 4, 12, 45, 56, 76)\n",
    "print(stats.mean(valores))"
   ]
  },
  {
   "cell_type": "markdown",
   "metadata": {},
   "source": [
    "Dentro de esta libreria tambien tenemos las funciones para encontrar la media armonica, la mediana, la mediana baja, mediana alta, mediana agrupada, entre otras"
   ]
  },
  {
   "cell_type": "markdown",
   "metadata": {},
   "source": [
    "2. Mediana"
   ]
  },
  {
   "cell_type": "code",
   "execution_count": 15,
   "metadata": {},
   "outputs": [
    {
     "name": "stdout",
     "output_type": "stream",
     "text": [
      "30.0\n"
     ]
    }
   ],
   "source": [
    "#Podemos calcular la mediana mediante la utilizacion de statistics de la siguiente manera:\n",
    "#La función median() devuelve la mediana o valor medio de los datos. La mediana es el \n",
    "#valor central de un grupo de números ordenados por tamaño. Si la cantidad de elementos es \n",
    "#par, la mediana es el promedio de los dos números centrales.\n",
    "valores = [22, 23, 26, 26, 26, 34, 34, 38, 40, 41]\n",
    "print(stats.median(valores))"
   ]
  },
  {
   "cell_type": "markdown",
   "metadata": {},
   "source": [
    "3. Moda"
   ]
  },
  {
   "cell_type": "code",
   "execution_count": 16,
   "metadata": {},
   "outputs": [
    {
     "name": "stdout",
     "output_type": "stream",
     "text": [
      "26\n"
     ]
    }
   ],
   "source": [
    "#La moda puede ser calculada de la siguiente manera:\n",
    "valores = [22, 23, 26, 26, 26, 34, 34, 38, 40, 41]\n",
    "print(stats.mode(valores))"
   ]
  },
  {
   "cell_type": "markdown",
   "metadata": {},
   "source": [
    "4. Percentil"
   ]
  },
  {
   "cell_type": "code",
   "execution_count": 2,
   "metadata": {},
   "outputs": [
    {
     "name": "stdout",
     "output_type": "stream",
     "text": [
      "Min:  1\n",
      "Q1:  4.0\n",
      "Q2:  8.0\n",
      "Q3:  10.5\n",
      "Max:  15\n"
     ]
    }
   ],
   "source": [
    "arr = [1,1,3,5,7,8,9,10,11,11,15]\n",
    "print(\"Min: \",np.quantile(arr,0))\n",
    "print(\"Q1: \", np.quantile(arr,0.25))\n",
    "print(\"Q2: \", np.quantile(arr,0.5))\n",
    "print(\"Q3: \", np.quantile(arr,0.75))\n",
    "print(\"Max: \", np.quantile(arr,1))"
   ]
  },
  {
   "cell_type": "code",
   "execution_count": 9,
   "metadata": {},
   "outputs": [
    {
     "name": "stdout",
     "output_type": "stream",
     "text": [
      "0.00     1.0\n",
      "0.25     4.0\n",
      "0.50     8.0\n",
      "0.75    10.5\n",
      "1.00    15.0\n",
      "dtype: float64\n"
     ]
    }
   ],
   "source": [
    "#Para hacerlo con pandas lo hacemos de la siguiente manera\n",
    "serie = pd.Series([1,1,3,5,7,8,9,10,11,11,15])\n",
    "print(serie.quantile([0,0.25,0.5,0.75,1]))"
   ]
  },
  {
   "cell_type": "code",
   "execution_count": 10,
   "metadata": {},
   "outputs": [
    {
     "name": "stdout",
     "output_type": "stream",
     "text": [
      "Estadistica:  count    11.000000\n",
      "mean      7.363636\n",
      "std       4.478230\n",
      "min       1.000000\n",
      "25%       4.000000\n",
      "50%       8.000000\n",
      "75%      10.500000\n",
      "max      15.000000\n",
      "Name: A, dtype: float64\n"
     ]
    }
   ],
   "source": [
    "datos = { 'A':[1,1,3,5,7,8,9,10,11,11,15]}\n",
    "df = pd.DataFrame(datos)\n",
    "print(\"Estadistica: \",df['A'].describe())"
   ]
  },
  {
   "cell_type": "markdown",
   "metadata": {},
   "source": [
    "* Medidas de Dispersion\n",
    "\n",
    "\n",
    "1. Varianza:\n",
    "La varianza es una medida de dispersión que representa la variabilidad de una serie de datos respecto a su media. Formalmente se calcula como la suma de las residuos al cuadrado divididos entre el total de observaciones.\n",
    "También se puede calcular como la desviación típica al cuadrado. Dicho sea de paso, entendemos como residuo a la diferencia entre el valor de una variable en un momento y el valor medio de toda la variable.\n",
    "La unidad de medida de la varianza será siempre la unidad de medida correspondiente a los datos pero elevada al cuadrado. La varianza siempre es mayor o igual que cero. Al elevarse los residuos al cuadrado es matemáticamente imposible que la varianza salga negativa. Y de esa forma no puede ser menor que cero.\n",
    "\n",
    "\n",
    "2. Desviacion Tipica:\n",
    "En estadística, la desviación típica (también conocida como desviación estándar y representada de forma abreviada por la letra griega minúscula sigma σ o la letra latina s, así como por las siglas SD -de standard deviation- en algunos textos traducidos del inglés) es una medida que se usa para cuantificar la variación o dispersión de un conjunto de datos numéricos\n",
    "Una desviación estándar baja indica que la mayor parte de los datos de una muestra tienden a estar agrupados cerca de su media (también denominada el valor esperado), mientras que una desviación estándar alta indica que los datos se extienden sobre un rango de valores más amplio.\n",
    "\n",
    "\n",
    "3. Coeficiente de Variacion:\n",
    "En estadística, cuando se desea hacer referencia a la relación entre el tamaño de la media y la variabilidad de la variable, se utiliza el coeficiente de variación (suele representarse por las siglas \"C.V.\"). \n",
    "Su fórmula expresa la desviación estándar como porcentaje de la media aritmética, mostrando una interpretación relativa del grado de variabilidad, independiente de la escala de la variable, a diferencia de la desviación típica o estándar. Por otro lado presenta problemas ya que a diferencia de la desviación típica este coeficiente es fuertemente sensible ante cambios de origen en la variable. Por ello es importante que todos los valores sean positivos y su media dé, por tanto, un valor positivo. A mayor valor del coeficiente de variación mayor heterogeneidad de los valores de la variable; y a menor C.V., mayor homogeneidad en los valores de la variable. Por ejemplo, si el C.V es menor o igual al 80%, significa que la media aritmética es representativa del conjunto de datos, por ende el conjunto de datos es \"Homogéneo\". Por el contrario, si el C.V supera al 80%, el promedio no será representativo del conjunto de datos (por lo que resultará \"Heterogéneo\")\n",
    "\n",
    "Si S>0 hay dependencia directa (positiva), es decir, a grandes valores de x corresponden grandes valores de y.\n",
    "•\tSi S=0 Una covarianza 0 se interpreta como la no existencia de una relación lineal entre las dos variables estudiadas.\n",
    "•\tSi S<0 hay dependencia inversa o negativa, es decir, a grandes valores de x corresponden pequeños valores de y.\n"
   ]
  },
  {
   "cell_type": "markdown",
   "metadata": {},
   "source": [
    "## Formulas"
   ]
  },
  {
   "cell_type": "markdown",
   "metadata": {},
   "source": [
    "1. Varianza:"
   ]
  },
  {
   "cell_type": "code",
   "execution_count": 21,
   "metadata": {},
   "outputs": [],
   "source": [
    "#Para este ejemplo se utiliza un dataframe de reviews de peliculas\n",
    "import matplotlib.pyplot as plt\n",
    "import pandas as pd\n",
    "movie_reviews = pd.read_csv(\"https://raw.githubusercontent.com/fivethirtyeight/data/master/fandango/fandango_score_comparison.csv\")"
   ]
  },
  {
   "cell_type": "code",
   "execution_count": 23,
   "metadata": {},
   "outputs": [
    {
     "name": "stdout",
     "output_type": "stream",
     "text": [
      "3.1938356164383563\n"
     ]
    }
   ],
   "source": [
    "#Primero calculamos la media de por ejemplo de user norm\n",
    "def calc_mean(data):\n",
    "    mean = data.mean()\n",
    "    return mean\n",
    "\n",
    "sel_cols = ['RT_user_norm', 'Metacritic_user_nom', 'Fandango_Ratingvalue', 'IMDB_norm']\n",
    "\n",
    "user_review = movie_reviews[sel_cols]\n",
    "\n",
    "rt_mean, mc_mean, fg_mean, id_mean = user_review.apply(calc_mean)\n",
    "\n",
    "print(rt_mean)"
   ]
  },
  {
   "cell_type": "code",
   "execution_count": 25,
   "metadata": {},
   "outputs": [],
   "source": [
    "#Ahora calcularemos la varianza\n",
    "def calc_mean(series):\n",
    "    vals = series.values\n",
    "    mean = sum(vals) / len(vals)\n",
    "    return mean\n",
    "\n",
    "def calc_variance(series):\n",
    "    mean = calc_mean(series)\n",
    "    variance = [ (x - mean) **2 for x in series]\n",
    "    variance = sum(variance) / len(variance)\n",
    "    return variance\n",
    "\n",
    "rt_var, mc_var, fg_var, id_var = user_review.apply(calc_variance)"
   ]
  },
  {
   "cell_type": "code",
   "execution_count": 26,
   "metadata": {},
   "outputs": [
    {
     "name": "stdout",
     "output_type": "stream",
     "text": [
      "0.995578438731469 0.5666546256333268 0.25110714955901703 0.228219647213361\n"
     ]
    }
   ],
   "source": [
    "print(rt_var, mc_var, fg_var, id_var)"
   ]
  },
  {
   "cell_type": "markdown",
   "metadata": {},
   "source": [
    "2. Desviacion Tipica (Estandar):"
   ]
  },
  {
   "cell_type": "code",
   "execution_count": 37,
   "metadata": {},
   "outputs": [],
   "source": [
    "from math import sqrt\n",
    "def desviacion_estandar(valores, media):\n",
    "    suma = 0\n",
    "    for valor in valores:\n",
    "        suma += (valor - media) ** 2\n",
    "    radicando = suma / (len(valores) - 1)\n",
    "    return sqrt(radicando)"
   ]
  },
  {
   "cell_type": "code",
   "execution_count": 63,
   "metadata": {},
   "outputs": [],
   "source": [
    "def calcular_media(valores):\n",
    "    suma = 0\n",
    "    for valor in valores:\n",
    "        suma += valor\n",
    "    return suma / (len(valores))"
   ]
  },
  {
   "cell_type": "code",
   "execution_count": 64,
   "metadata": {},
   "outputs": [
    {
     "name": "stdout",
     "output_type": "stream",
     "text": [
      "La desviacion estandar es:  4.223657859520077\n"
     ]
    },
    {
     "data": {
      "text/plain": [
       "4.223657859520077"
      ]
     },
     "execution_count": 64,
     "metadata": {},
     "output_type": "execute_result"
    }
   ],
   "source": [
    "if __name__ ==\"__main__\":\n",
    "    numeros = [7, 3, 13, 17, 10, 8, 12, 9]\n",
    "    media = calcular_media(numeros)\n",
    "    resultado = desviacion_estandar(numeros, media)\n",
    "    print('La desviacion estandar es: ',resultado)\n",
    "    \n",
    "#La liberia statistics tambien nos ofrece la manera de calculara de la siguiente manera\n",
    "stats.stdev([7, 3, 13, 17, 10, 8, 12, 9])"
   ]
  },
  {
   "cell_type": "markdown",
   "metadata": {},
   "source": [
    "3. Coeficiente de variacion:\n"
   ]
  },
  {
   "cell_type": "code",
   "execution_count": 27,
   "metadata": {},
   "outputs": [],
   "source": [
    "#Aqui esta la formula para computar la covarianza entre 2 variables: cov(x,y)=∑(xi−x¯)(yi−y¯)/n\n",
    "def calc_covariance(x, y):\n",
    "    x_mean = calc_mean(x)\n",
    "    y_mean = calc_mean(y)\n",
    "    \n",
    "    x_diff = [nx - x_mean for nx in x]\n",
    "    y_diff = [ny - y_mean for ny in y]\n",
    "    \n",
    "    xy_mult = [ (x_diff[i] * y_diff[i]) for i in range(0,len(x_diff))]\n",
    "    \n",
    "    covariance = sum(xy_mult) / len(x)\n",
    "    \n",
    "    return covariance\n",
    "\n",
    "scores = [\"RT_user_norm\", \"Metacritic_user_nom\", \"IMDB_norm\", \"Fandango_Ratingvalue\"]\n",
    "\n",
    "rt_fg_covar = calc_covariance(movie_reviews[scores[0]], movie_reviews[scores[3]]) \n",
    "mc_fg_covar = calc_covariance(movie_reviews[scores[1]], movie_reviews[scores[3]]) \n",
    "id_fg_covar = calc_covariance(movie_reviews[scores[2]], movie_reviews[scores[3]])"
   ]
  },
  {
   "cell_type": "code",
   "execution_count": 28,
   "metadata": {},
   "outputs": [
    {
     "name": "stdout",
     "output_type": "stream",
     "text": [
      "0.3621622255582659 0.1271007693751173 0.1437188027772567\n"
     ]
    }
   ],
   "source": [
    "print(rt_fg_covar, mc_fg_covar, id_fg_covar)"
   ]
  },
  {
   "attachments": {
    "image.png": {
     "image/png": "[encoded data removed]"
    }
   },
   "cell_type": "markdown",
   "metadata": {},
   "source": [
    "* Momento de orden r respecto a la media:\n",
    "Los momentos potenciales o muestrales son valores que caracterizan a una muestra aleatoria. Los momentos muestrales aproximan a los momentos de la distribución, estos últimos tienen la propiedad de que dos distribuciones de probabilidad son iguales si tienen todos sus momentos iguales.\n",
    "Los momentos de una muestra forman una sucesión de números, para cada número natural r se puede definir el momento r-ésimo. \n",
    "\n",
    "![image.png](attachment:image.png)\n",
    "\n"
   ]
  },
  {
   "cell_type": "markdown",
   "metadata": {},
   "source": [
    "* Medias de Asimetria:"
   ]
  },
  {
   "cell_type": "markdown",
   "metadata": {},
   "source": [
    "1. Asimetria de Fisher:\n",
    "Es un valor que indica la asimetría. Simbólicamente se representa por γ1.\n",
    "Las medidas de asimetría son indicadores que permiten establecer el grado de simetría (o asimetría) que presenta una distribución de probabilidad de una variable aleatoria sin tener que hacer su representación gráfica. Como eje de simetría consideramos una recta paralela al eje de ordenadas que pasa por la media de la distribución. Si una distribución es simétrica, existe el mismo número de valores a la derecha que a la izquierda de la media, por tanto, el mismo número de desviaciones con signo positivo que con signo negativo. Decimos que hay asimetría positiva (o a la derecha) si la \"cola\" a la derecha de la media es más larga que la de la izquierda, es decir, si hay valores más separados de la media a la derecha. Diremos que hay asimetría negativa (o a la izquierda) si la \"cola\" a la izquierda de la media es más larga que la de la derecha, es decir, si hay valores más separados de la media a la izquierda. \n",
    "\n",
    "2. Curtosis:\n",
    "La curtosis (también conocida como medida de apuntamiento) es una medida estadística, que determina el grado de concentración que presentan los valores de una variable alrededor de la zona central de la distribución de frecuencias.Cuando medimos una variable aleatoria, por lo general, los resultados que tienen una mayor frecuencia son los que se sitúan en torno a la media de la distribución. Imaginemos la altura de los alumnos de una clase. Si la altura media de la clase es 1,72, lo más normal es que las alturas del resto de los alumnos estén en torno a este valor (con cierto grado de variabilidad, pero sin ser esta demasiado grande). Si esto sucede, se considera que la distribución de la variable aleatoria se distribuye con normalidad. Pero dada la infinidad de variables que se pueden medir, esto no siempre sucede así."
   ]
  },
  {
   "cell_type": "markdown",
   "metadata": {},
   "source": [
    "## Formulas"
   ]
  },
  {
   "cell_type": "markdown",
   "metadata": {},
   "source": [
    "1. Asimetria de Fisher:"
   ]
  },
  {
   "cell_type": "code",
   "execution_count": null,
   "metadata": {},
   "outputs": [],
   "source": []
  },
  {
   "cell_type": "code",
   "execution_count": null,
   "metadata": {},
   "outputs": [],
   "source": []
  },
  {
   "cell_type": "markdown",
   "metadata": {},
   "source": [
    "2. Curtosis"
   ]
  },
  {
   "cell_type": "code",
   "execution_count": null,
   "metadata": {},
   "outputs": [],
   "source": []
  },
  {
   "cell_type": "markdown",
   "metadata": {},
   "source": [
    "* Muestreo aleatorio y teorema central del limite:\n",
    "Este teorema (del que damos únicamente una idea general, sin establecer las hipótesis matemáticas reales) establece la importancia de la distribución normal. Su resultado es que, cuando se suma un número grande de variables aleatorias, la variable resultante es una variable con distribución aproximadamente igual a la distribución normal. Incluso, el término número grande(porque matemáticamente el teorema se establece cuando n tiende a infinito) no lo es tanto, porque, en la práctica, con tener que n sea un número mayor o igual a 30 ,la aproximación ya proporciona buenas resultados.\n",
    "Además, el teorema es cierto independientemente de la distribución que sigan las variables que se sumen (no importa si son exponenciales, binomiales, etc.). Lo único que se necesita es saber su media y su varianza."
   ]
  },
  {
   "cell_type": "code",
   "execution_count": null,
   "metadata": {},
   "outputs": [],
   "source": []
  },
  {
   "cell_type": "markdown",
   "metadata": {},
   "source": [
    "* Los contrastes de Hipotesis:\n",
    "Dentro de la inferencia estadística, un contraste de hipótesis (también denominado test de hipótesis o prueba de significación) es un procedimiento para juzgar si una propiedad que se supone en una población estadística es compatible con lo observado en una muestra de dicha población. Fue iniciada por Ronald Fisher y fundamentada posteriormente por Jerzy Neyman y Karl Pearson."
   ]
  },
  {
   "cell_type": "code",
   "execution_count": null,
   "metadata": {},
   "outputs": [],
   "source": []
  },
  {
   "cell_type": "markdown",
   "metadata": {},
   "source": [
    "* Test de la Chi cuadrada:\n",
    "Una prueba de chi-cuadrada es una prueba de hipótesis que compara la distribución observada de los datos con una distribución esperada de los datos.\n",
    "Existen varios tipos de pruebas de chi-cuadrada:\n",
    "Prueba de bondad de ajuste de chi-cuadrada\n",
    "    Utilice este análisis para probar qué tan bien una muestra de datos categóricos se ajusta a una distribución teórica.\n",
    "    Por ejemplo, usted puede comprobar si un dado es justo, lanzando el dado muchas veces y utilizando una prueba de bondad de ajuste de chi-cuadrada para determinar si los resultados siguen una distribución uniforme. En este caso, el estadístico de chi-cuadrada cuantifica qué tanto varía la distribución observada de los conteos con respecto a la distribución hipotética.\n",
    "Pruebas de chi-cuadrada de asociación e independencia\n",
    "    Los cálculos para estas pruebas son iguales, pero la pregunta que se está tratando de contestar puede ser diferente. \n",
    "\n",
    "   Prueba de asociación: Utilice una prueba de asociación para determinar si una variable está asociada a otra variable. Por ejemplo, determine si las ventas de diferentes colores de automóviles dependen de la ciudad donde se venden.\n",
    "   \n",
    "   Prueba de independencia: Utilice una prueba de independencia para determinar si el valor observado de una variable depende del valor observado de otra variable. Por ejemplo, determine si el hecho de que una persona vote por un candidato no depende del sexo del elector.\n",
    "\n"
   ]
  },
  {
   "cell_type": "code",
   "execution_count": null,
   "metadata": {},
   "outputs": [],
   "source": []
  },
  {
   "cell_type": "markdown",
   "metadata": {},
   "source": [
    "* Correlacion entre variables:\n",
    "La Correlación es una técnica estadística usada para determinar la relación entre dos o más variables. La relación entre la duración de una carrera de distancia y el test del escalón, o la relación entre las características de la personalidad y la participación en deportes de alto riesgo. La correlación puede ser de al menos dos variables o de una variable dependiente y dos o más variables independientes, denominada correlación múltiple. "
   ]
  },
  {
   "cell_type": "markdown",
   "metadata": {},
   "source": [
    "# Regresion Lineal"
   ]
  },
  {
   "cell_type": "markdown",
   "metadata": {},
   "source": [
    "En estadística la regresión lineal o ajuste lineal es un modelo matemático usado para aproximar la relación de dependencia entre una variable dependiente Y, las variables independientes Xi y un término aleatorio ε. Este modelo puede ser expresado como:\n",
    "\n",
    "Y t = β 0 + β 1 X 1 + β 2 X 2 + ⋯ + β p X p + ε\n",
    "\n",
    "La regresión lineal es un algoritmo de aprendizaje supervisado que se utiliza en Machine Learning y en estadística. En su versión más sencilla, lo que haremos es «dibujar una recta» que nos indicará la tendencia de un conjunto de datos continuos (si fueran discretos, utilizaríamos Regresión Logística).\n",
    "En estadísticas, regresión lineal es una aproximación para modelar la relación entre una variable escalar dependiente «y» y una o mas variables explicativas nombradas con «X»."
   ]
  },
  {
   "cell_type": "markdown",
   "metadata": {},
   "source": [
    "## Maching Learning Con regresion lineal python"
   ]
  },
  {
   "cell_type": "markdown",
   "metadata": {},
   "source": [
    "Recordemos rápidamente la fórmula de la recta:\n",
    "\n",
    "    Y = mX + b\n",
    "\n",
    "Donde Y es el resultado, X es la variable, m la pendiente (o coeficiente) de la recta y b la constante o también conocida como el «punto de corte con el eje Y» en la gráfica (cuando X=0)"
   ]
  },
  {
   "cell_type": "markdown",
   "metadata": {},
   "source": [
    "Ejercicio"
   ]
  },
  {
   "cell_type": "code",
   "execution_count": null,
   "metadata": {},
   "outputs": [],
   "source": []
  }
 ],
 "metadata": {
  "kernelspec": {
   "display_name": "Python 3",
   "language": "python",
   "name": "python3"
  },
  "language_info": {
   "codemirror_mode": {
    "name": "ipython",
    "version": 3
   },
   "file_extension": ".py",
   "mimetype": "text/x-python",
   "name": "python",
   "nbconvert_exporter": "python",
   "pygments_lexer": "ipython3",
   "version": "3.8.1"
  }
 },
 "nbformat": 4,
 "nbformat_minor": 4
}
