{
 "cells": [
  {
   "cell_type": "markdown",
   "metadata": {},
   "source": [
    "## Estadistica Basica"
   ]
  },
  {
   "cell_type": "markdown",
   "metadata": {},
   "source": [
    "Medidas basicas de la estadistica descriptiva\n",
    "* Medidas de centralizacion"
   ]
  },
  {
   "attachments": {},
   "cell_type": "markdown",
   "metadata": {},
   "source": [
    "1. Media Artimetica: \n",
    "También llamada promedio o media, es un valor que nos indica la catitad total que tenemos pero distribuida de manera equitativa entre cada uno de los datos u objetos.\n",
    "Se utiliza la letra x con una barra horizontal sobre el símbolo para representar la media de una muestra. Cuando tenemos que resumir un conjunto de datos numéricos es muy frecuente utilizar la media aritmética. La media aritmética o promedio destaca por representar el reparto equitativo, el equilibrio, la equidad. Es el valor que tendrían los datos, si todos ellos fueran iguales. O, también, el valor que correspondería a cada uno de los datos de la distribución si su suma total se repartiera por igual."
   ]
  },
  {
   "cell_type": "markdown",
   "metadata": {},
   "source": [
    "2. Mediana:\n",
    "La mediana dentro del mundo de las estadísticas y probabilidades se refiere a un grupo o conjunto de datos que se encuentran en el medio, teniendo una parte de los datos por debajo y la otra por encima, por esta razón se denomina mediana. En estadística es muy utilizado el promedio y para ello es necesario conocer conceptos como la media, la mediana y la moda. \n",
    "Ejemplo: En el caso de que veamos el siguiente conjunto de números 2 – 3 – 3 – 5 – 8 – 10 – 11. La mediana sera el numero 5."
   ]
  },
  {
   "cell_type": "markdown",
   "metadata": {},
   "source": [
    "3. Moda: \n",
    "La moda es el valor con mayor frecuencia en una de las distribuciones de datos. Esto va en forma de una columna cuando encontremos dos modas, es decir, dos datos que tengan la misma frecuencia absoluta máxima. "
   ]
  },
  {
   "cell_type": "code",
   "execution_count": null,
   "metadata": {},
   "outputs": [],
   "source": []
  }
 ],
 "metadata": {
  "kernelspec": {
   "display_name": "Python 3",
   "language": "python",
   "name": "python3"
  },
  "language_info": {
   "codemirror_mode": {
    "name": "ipython",
    "version": 3
   },
   "file_extension": ".py",
   "mimetype": "text/x-python",
   "name": "python",
   "nbconvert_exporter": "python",
   "pygments_lexer": "ipython3",
   "version": "3.8.1"
  }
 },
 "nbformat": 4,
 "nbformat_minor": 4
}
